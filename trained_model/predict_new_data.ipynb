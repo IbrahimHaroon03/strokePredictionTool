{
 "cells": [
  {
   "cell_type": "code",
   "execution_count": null,
   "id": "25d3f067",
   "metadata": {},
   "outputs": [],
   "source": [
    "import sys\n",
    "import json\n",
    "import joblib\n",
    "import pandas as pd"
   ]
  },
  {
   "cell_type": "code",
   "execution_count": null,
   "id": "c4443c0b",
   "metadata": {},
   "outputs": [],
   "source": [
    "# Load model and preprocessing tools\n",
    "model = joblib.load(\"KNearest_Neighbours_Model.pkl\")\n",
    "imputer = joblib.load(\"imputer.pkl\")\n",
    "scaler = joblib.load(\"scaler.pkl\")"
   ]
  },
  {
   "cell_type": "code",
   "execution_count": null,
   "id": "44bb9597",
   "metadata": {},
   "outputs": [],
   "source": [
    "# Read input JSON from command-line\n",
    "raw_json = sys.argv[1]\n",
    "data_dict = json.loads(raw_json)\n",
    "new_data = pd.DataFrame([data_dict])"
   ]
  },
  {
   "cell_type": "code",
   "execution_count": null,
   "id": "97189052",
   "metadata": {},
   "outputs": [],
   "source": [
    "# Preprocess input\n",
    "imputed = imputer.transform(new_data)\n",
    "scaled = scaler.transform(imputed)"
   ]
  },
  {
   "cell_type": "code",
   "execution_count": null,
   "id": "544b3ec2",
   "metadata": {},
   "outputs": [],
   "source": [
    "# Predict\n",
    "prob = model.predict_proba(scaled)[0][1]\n",
    "percent = round(prob * 100, 2)"
   ]
  }
 ],
 "metadata": {
  "kernelspec": {
   "display_name": "Python 3",
   "language": "python",
   "name": "python3"
  },
  "language_info": {
   "codemirror_mode": {
    "name": "ipython",
    "version": 3
   },
   "file_extension": ".py",
   "mimetype": "text/x-python",
   "name": "python",
   "nbconvert_exporter": "python",
   "pygments_lexer": "ipython3",
   "version": "3.12.3"
  }
 },
 "nbformat": 4,
 "nbformat_minor": 5
}
